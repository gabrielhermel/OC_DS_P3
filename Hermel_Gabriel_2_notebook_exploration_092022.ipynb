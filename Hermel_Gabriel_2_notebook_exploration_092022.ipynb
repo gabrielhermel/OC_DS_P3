{
 "cells": [
  {
   "cell_type": "code",
   "execution_count": 41,
   "metadata": {},
   "outputs": [],
   "source": [
    "import matplotlib.pyplot as plt\n",
    "import numpy as np\n",
    "import os\n",
    "import pandas as pd\n",
    "import seaborn as sns\n",
    "import sys\n"
   ]
  },
  {
   "cell_type": "code",
   "execution_count": 42,
   "metadata": {},
   "outputs": [],
   "source": [
    "products_df = pd.DataFrame()\n",
    "\n",
    "if not os.path.isfile(\"products_df5.ftr\"):\n",
    "    # exit() crashes kernel\n",
    "    sys.exit(\n",
    "        'The file \"products_df5.ftr\" was not found! Please run \"Hermel_Gabriel_1_notebook_nettoyage_092022.ipynb\" in the same directory first.'\n",
    "    )\n",
    "else:\n",
    "    products_df = pd.read_feather(\"products_df5.ftr\")\n"
   ]
  },
  {
   "cell_type": "code",
   "execution_count": 49,
   "metadata": {},
   "outputs": [
    {
     "name": "stdout",
     "output_type": "stream",
     "text": [
      "<class 'pandas.core.frame.DataFrame'>\n",
      "RangeIndex: 298110 entries, 0 to 298109\n",
      "Data columns (total 68 columns):\n",
      " #   Column                    Non-Null Count   Dtype  \n",
      "---  ------                    --------------   -----  \n",
      " 0   code                      298110 non-null  object \n",
      " 1   product_name              296922 non-null  object \n",
      " 2   brands                    216994 non-null  object \n",
      " 3   primary_category          298110 non-null  object \n",
      " 4   secondary_category        298110 non-null  object \n",
      " 5   tertiary_category         298110 non-null  object \n",
      " 6   select_category           298110 non-null  object \n",
      " 7   energy-kcal_100g          298110 non-null  float64\n",
      " 8   proteins_100g             298110 non-null  float64\n",
      " 9   carbohydrates_100g        298110 non-null  float64\n",
      " 10  sugars_100g               295593 non-null  float64\n",
      " 11  fat_100g                  298110 non-null  float64\n",
      " 12  saturated-fat_100g        290445 non-null  float64\n",
      " 13  monounsaturated-fat_100g  173882 non-null  float64\n",
      " 14  polyunsaturated-fat_100g  173869 non-null  float64\n",
      " 15  trans-fat_100g            181733 non-null  float64\n",
      " 16  fiber_100g                219108 non-null  float64\n",
      " 17  sodium_100g               293101 non-null  float64\n",
      " 18  Biscuits                  298110 non-null  int64  \n",
      " 19  Cheeses                   298110 non-null  int64  \n",
      " 20  Sweet snacks              298110 non-null  int64  \n",
      " 21  Breads                    298110 non-null  int64  \n",
      " 22  Cakes                     298110 non-null  int64  \n",
      " 23  Chocolates                298110 non-null  int64  \n",
      " 24  Hams                      298110 non-null  int64  \n",
      " 25  Pastries                  298110 non-null  int64  \n",
      " 26  Milks                     298110 non-null  int64  \n",
      " 27  Sausages                  298110 non-null  int64  \n",
      " 28  Chickens                  298110 non-null  int64  \n",
      " 29  Candies                   298110 non-null  int64  \n",
      " 30  Sodas                     298110 non-null  int64  \n",
      " 31  Vegetable oils            298110 non-null  int64  \n",
      " 32  Jams                      298110 non-null  int64  \n",
      " 33  Pizzas                    298110 non-null  int64  \n",
      " 34  Breakfast cereals         298110 non-null  int64  \n",
      " 35  Waters                    298110 non-null  int64  \n",
      " 36  Ice creams                298110 non-null  int64  \n",
      " 37  Fruit juices              298110 non-null  int64  \n",
      " 38  Nuts                      298110 non-null  int64  \n",
      " 39  Sweet spreads             298110 non-null  int64  \n",
      " 40  Dried fruits              298110 non-null  int64  \n",
      " 41  Pork                      298110 non-null  int64  \n",
      " 42  Tomato sauces             298110 non-null  int64  \n",
      " 43  Rices                     298110 non-null  int64  \n",
      " 44  Appetizers                298110 non-null  int64  \n",
      " 45  Soups                     298110 non-null  int64  \n",
      " 46  Seafood                   298110 non-null  int64  \n",
      " 47  Smoked salmons            298110 non-null  int64  \n",
      " 48  Mayonnaises               298110 non-null  int64  \n",
      " 49  Salty snacks              298110 non-null  int64  \n",
      " 50  Sandwiches                298110 non-null  int64  \n",
      " 51  Ice creams and sorbets    298110 non-null  int64  \n",
      " 52  Fruit yogurts             298110 non-null  int64  \n",
      " 53  Noodles                   298110 non-null  int64  \n",
      " 54  Meat analogues            298110 non-null  int64  \n",
      " 55  Microwave meals           298110 non-null  int64  \n",
      " 56  Prepared salads           298110 non-null  int64  \n",
      " 57  Butters                   298110 non-null  int64  \n",
      " 58  Pasta dishes              298110 non-null  int64  \n",
      " 59  Smoked fishes             298110 non-null  int64  \n",
      " 60  Cream cheeses             298110 non-null  int64  \n",
      " 61  Dips                      298110 non-null  int64  \n",
      " 62  Frozen seafood            298110 non-null  int64  \n",
      " 63  Canned meals              298110 non-null  int64  \n",
      " 64  Tunas                     298110 non-null  int64  \n",
      " 65  Dry pastas                298110 non-null  int64  \n",
      " 66  Mustards                  298110 non-null  int64  \n",
      " 67  Pestos                    298110 non-null  int64  \n",
      "dtypes: float64(11), int64(50), object(7)\n",
      "memory usage: 154.7+ MB\n"
     ]
    }
   ],
   "source": [
    "products_df_sel_categ = products_df.loc[products_df[\"select_category\"].notnull()]\n",
    "products_df_sel_categ.reset_index(drop=True, inplace=True)\n",
    "products_df_sel_categ = products_df_sel_categ.dropna(\n",
    "    axis=1, thresh=products_df_sel_categ.shape[0] * 0.2\n",
    ")\n",
    "products_df_sel_categ.info()\n"
   ]
  }
 ],
 "metadata": {
  "kernelspec": {
   "display_name": "Python 3 (ipykernel)",
   "language": "python",
   "name": "python3"
  },
  "language_info": {
   "codemirror_mode": {
    "name": "ipython",
    "version": 3
   },
   "file_extension": ".py",
   "mimetype": "text/x-python",
   "name": "python",
   "nbconvert_exporter": "python",
   "pygments_lexer": "ipython3",
   "version": "3.8.10"
  },
  "vscode": {
   "interpreter": {
    "hash": "d5880dfd018dbd8abcbbdd052a163cac6430edf86522f3e25ae5a8b1e49f0b96"
   }
  }
 },
 "nbformat": 4,
 "nbformat_minor": 2
}
